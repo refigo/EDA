{
 "cells": [
  {
   "cell_type": "code",
   "execution_count": 18,
   "id": "411ec88c",
   "metadata": {},
   "outputs": [
    {
     "name": "stdout",
     "output_type": "stream",
     "text": [
      "/dev/ttyUSB1\n"
     ]
    }
   ],
   "source": [
    "import serial\n",
    "\n",
    "ser = serial.Serial('/dev/ttyUSB1', 1000000)\n",
    "print(ser.name)"
   ]
  },
  {
   "cell_type": "code",
   "execution_count": 19,
   "id": "c297cfa7",
   "metadata": {},
   "outputs": [],
   "source": [
    "def read(size=1, timeout=None):\n",
    "    ser.timeout = timeout\n",
    "    readed = ser.read(size)\n",
    "    return readed"
   ]
  },
  {
   "cell_type": "code",
   "execution_count": 20,
   "id": "9440a6ef",
   "metadata": {},
   "outputs": [
    {
     "name": "stdout",
     "output_type": "stream",
     "text": [
      "b'\\xfa\\xfe\\x93\\x00\\x00\\x00\\x00\\x00\\x00\\x00\\x00\\x00\\x00\\x00\\x00\\x00\\x0e\\x0e\\xfa\\xfd'\n"
     ]
    }
   ],
   "source": [
    "# status\n",
    "\n",
    "command = b\"\\xfa\\xfe\\x03\\x01\\x04\\xfa\\xfd\"\n",
    "ser.write(command)\n",
    "\n",
    "incomming = read(size=20, timeout=1)\n",
    "print(incomming)"
   ]
  },
  {
   "cell_type": "code",
   "execution_count": 16,
   "id": "69880678",
   "metadata": {},
   "outputs": [
    {
     "name": "stdout",
     "output_type": "stream",
     "text": [
      "b'\\xfa\\xfe\\x91\\x01\\x01\\x03\\x8b\\xfa\\xfd'\n"
     ]
    }
   ],
   "source": [
    "command = b\"\\xfa\\xfe\\x01\\x01\\x01\\x03\\x06\\xfa\\xfd\"\n",
    "ser.write(command)\n",
    "\n",
    "print(read(size=20, timeout=1))"
   ]
  },
  {
   "cell_type": "code",
   "execution_count": 17,
   "id": "46080190",
   "metadata": {},
   "outputs": [
    {
     "name": "stdout",
     "output_type": "stream",
     "text": [
      "[250, 254, 2, 1, 0, 250, 0, 250, 255, 255, 0, 9, 254, 250, 253]\n",
      "b'\\xfa\\xfe\\x02\\x01\\x00\\xfa\\x00\\xfa\\xff\\xff\\x00\\t\\xfe\\xfa\\xfd'\n"
     ]
    },
    {
     "data": {
      "text/plain": [
       "15"
      ]
     },
     "execution_count": 17,
     "metadata": {},
     "output_type": "execute_result"
    }
   ],
   "source": [
    "import numpy as np\n",
    "\n",
    "command = [0xfa, 0xfe, 2, 0, 0, 0, 0, 0, 0, 0, 0, 9, 0, 0xfa, 0xfd]\n",
    "\n",
    "command[3] = 1\n",
    "command[5] = 250\n",
    "command[7] = 250\n",
    "command[8] = 255\n",
    "command[9] = 255\n",
    "command[12] = np.uint8(sum(command[2:12]))\n",
    "\n",
    "print(command)\n",
    "print(bytes(command))\n",
    "\n",
    "ser.write(bytes(command))"
   ]
  },
  {
   "cell_type": "code",
   "execution_count": null,
   "id": "8013feee",
   "metadata": {},
   "outputs": [],
   "source": []
  }
 ],
 "metadata": {
  "kernelspec": {
   "display_name": "Python 3 (ipykernel)",
   "language": "python",
   "name": "python3"
  },
  "language_info": {
   "codemirror_mode": {
    "name": "ipython",
    "version": 3
   },
   "file_extension": ".py",
   "mimetype": "text/x-python",
   "name": "python",
   "nbconvert_exporter": "python",
   "pygments_lexer": "ipython3",
   "version": "3.10.6"
  }
 },
 "nbformat": 4,
 "nbformat_minor": 5
}
