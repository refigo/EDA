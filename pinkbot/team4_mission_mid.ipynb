{
 "cells": [
  {
   "cell_type": "code",
   "execution_count": 1,
   "id": "a4c5c9ee",
   "metadata": {},
   "outputs": [],
   "source": [
    "from nav2_simple_commander.robot_navigator import BasicNavigator\n",
    "import rclpy\n",
    "\n",
    "rclpy.init()\n",
    "nav = BasicNavigator()"
   ]
  },
  {
   "cell_type": "code",
   "execution_count": 2,
   "id": "3e8ff0c2",
   "metadata": {},
   "outputs": [
    {
     "name": "stderr",
     "output_type": "stream",
     "text": [
      "[INFO] [1690445725.279068661] [basic_navigator]: Nav2 is ready for use!\n"
     ]
    }
   ],
   "source": [
    "nav.waitUntilNav2Active()"
   ]
  },
  {
   "cell_type": "code",
   "execution_count": 5,
   "id": "23f624e2",
   "metadata": {},
   "outputs": [],
   "source": [
    "from geometry_msgs.msg import PoseStamped\n",
    "from rclpy.duration import Duration"
   ]
  },
  {
   "cell_type": "code",
   "execution_count": 6,
   "id": "d9bdb87b",
   "metadata": {},
   "outputs": [
    {
     "name": "stderr",
     "output_type": "stream",
     "text": [
      "[INFO] [1690445772.928603312] [basic_navigator]: Navigating to goal: 100.0 100.0...\n"
     ]
    },
    {
     "name": "stdout",
     "output_type": "stream",
     "text": [
      "Distance remaining: 0.00meters.\n",
      "builtin_interfaces.msg.Duration(sec=0, nanosec=470163151)\n",
      "Distance remaining: 0.00meters.\n",
      "builtin_interfaces.msg.Duration(sec=0, nanosec=980189357)\n",
      "Distance remaining: 0.00meters.\n",
      "builtin_interfaces.msg.Duration(sec=1, nanosec=480167596)\n",
      "Distance remaining: 0.00meters.\n",
      "builtin_interfaces.msg.Duration(sec=1, nanosec=980194608)\n",
      "Distance remaining: 0.00meters.\n",
      "builtin_interfaces.msg.Duration(sec=2, nanosec=480184159)\n",
      "Distance remaining: 0.00meters.\n",
      "builtin_interfaces.msg.Duration(sec=2, nanosec=990118880)\n",
      "Distance remaining: 0.00meters.\n",
      "builtin_interfaces.msg.Duration(sec=3, nanosec=490102500)\n",
      "Distance remaining: 0.00meters.\n",
      "builtin_interfaces.msg.Duration(sec=3, nanosec=990134921)\n",
      "Distance remaining: 0.00meters.\n",
      "builtin_interfaces.msg.Duration(sec=4, nanosec=490128032)\n",
      "Distance remaining: 0.00meters.\n",
      "builtin_interfaces.msg.Duration(sec=4, nanosec=990172426)\n",
      "Distance remaining: 0.00meters.\n",
      "builtin_interfaces.msg.Duration(sec=5, nanosec=500133778)\n",
      "Distance remaining: 0.00meters.\n",
      "builtin_interfaces.msg.Duration(sec=6, nanosec=136678)\n",
      "Distance remaining: 0.00meters.\n",
      "builtin_interfaces.msg.Duration(sec=6, nanosec=500127414)\n",
      "Distance remaining: 0.00meters.\n",
      "builtin_interfaces.msg.Duration(sec=7, nanosec=127421)\n",
      "Distance remaining: 0.00meters.\n",
      "builtin_interfaces.msg.Duration(sec=7, nanosec=510212788)\n",
      "Distance remaining: 0.00meters.\n",
      "builtin_interfaces.msg.Duration(sec=8, nanosec=10268284)\n",
      "Distance remaining: 0.00meters.\n",
      "builtin_interfaces.msg.Duration(sec=8, nanosec=510191471)\n",
      "Distance remaining: 0.00meters.\n",
      "builtin_interfaces.msg.Duration(sec=9, nanosec=10275102)\n",
      "Distance remaining: 0.00meters.\n",
      "builtin_interfaces.msg.Duration(sec=9, nanosec=520181287)\n",
      "Distance remaining: 0.00meters.\n",
      "builtin_interfaces.msg.Duration(sec=10, nanosec=20185154)\n"
     ]
    },
    {
     "name": "stderr",
     "output_type": "stream",
     "text": [
      "[INFO] [1690445782.979751903] [basic_navigator]: Canceling current task.\n"
     ]
    }
   ],
   "source": [
    "# initial setting\n",
    "goal_pose0 = PoseStamped()\n",
    "goal_pose0.header.frame_id = 'map'\n",
    "goal_pose0.header.stamp = nav.get_clock().now().to_msg()\n",
    "goal_pose0.pose.position.x = 100.\n",
    "goal_pose0.pose.position.y = 100.\n",
    "goal_pose0.pose.orientation.w = 0.\n",
    "goal_pose0.pose.orientation.z = 0.\n",
    "\n",
    "nav.goToPose(goal_pose0)\n",
    "\n",
    "\n",
    "i = 0\n",
    "while not nav.isTaskComplete():\n",
    "    i = i + 1\n",
    "    feedback = nav.getFeedback()\n",
    "    if feedback and i % 5 == 0:\n",
    "        print('Distance remaining: ' + '{:.2f}'.format(\n",
    "        feedback.distance_remaining) + 'meters.')\n",
    "        print(feedback.navigation_time)\n",
    "        \n",
    "    if Duration.from_msg(feedback.navigation_time) > Duration(seconds=10.0):\n",
    "        nav.cancelTask()"
   ]
  },
  {
   "cell_type": "code",
   "execution_count": 7,
   "id": "e43a0be9",
   "metadata": {},
   "outputs": [
    {
     "name": "stderr",
     "output_type": "stream",
     "text": [
      "[INFO] [1690445782.997250487] [basic_navigator]: Navigating to goal: 0.7 0.2...\n"
     ]
    },
    {
     "name": "stdout",
     "output_type": "stream",
     "text": [
      "Distance remaining: 0.72meters.\n",
      "builtin_interfaces.msg.Duration(sec=0, nanosec=500165357)\n",
      "Distance remaining: 0.72meters.\n",
      "builtin_interfaces.msg.Duration(sec=1, nanosec=201413)\n",
      "Distance remaining: 0.66meters.\n",
      "builtin_interfaces.msg.Duration(sec=1, nanosec=510193504)\n",
      "Distance remaining: 0.56meters.\n",
      "builtin_interfaces.msg.Duration(sec=2, nanosec=10174618)\n"
     ]
    }
   ],
   "source": [
    "#A지역\n",
    "goal_pose1 = PoseStamped()\n",
    "goal_pose1.header.frame_id = 'map'\n",
    "goal_pose1.header.stamp = nav.get_clock().now().to_msg()\n",
    "goal_pose1.pose.position.x = 0.7\n",
    "goal_pose1.pose.position.y = 0.2\n",
    "goal_pose1.pose.orientation.w = 0.\n",
    "goal_pose1.pose.orientation.z = 0.\n",
    "\n",
    "nav.goToPose(goal_pose1)\n",
    "\n",
    "i = 0\n",
    "while not nav.isTaskComplete():\n",
    "    i = i + 1\n",
    "    feedback = nav.getFeedback()\n",
    "    if feedback and i % 5 == 0:\n",
    "        print('Distance remaining: ' + '{:.2f}'.format(\n",
    "        feedback.distance_remaining) + 'meters.')\n",
    "        print(feedback.navigation_time)\n",
    "        \n",
    "    if Duration.from_msg(feedback.navigation_time) > Duration(seconds=10.0):\n",
    "        nav.cancelTask()"
   ]
  },
  {
   "cell_type": "code",
   "execution_count": 8,
   "id": "19c96c18",
   "metadata": {},
   "outputs": [
    {
     "name": "stderr",
     "output_type": "stream",
     "text": [
      "[INFO] [1690445785.268708205] [basic_navigator]: Navigating to goal: 0.7 0.2...\n"
     ]
    },
    {
     "name": "stdout",
     "output_type": "stream",
     "text": [
      "Distance remaining: 0.40meters.\n",
      "builtin_interfaces.msg.Duration(sec=0, nanosec=500280996)\n",
      "Distance remaining: 0.35meters.\n",
      "builtin_interfaces.msg.Duration(sec=1, nanosec=199958)\n",
      "Distance remaining: 0.25meters.\n",
      "builtin_interfaces.msg.Duration(sec=1, nanosec=500176277)\n",
      "Distance remaining: 0.15meters.\n",
      "builtin_interfaces.msg.Duration(sec=2, nanosec=10177582)\n",
      "Distance remaining: 0.15meters.\n",
      "builtin_interfaces.msg.Duration(sec=2, nanosec=510196880)\n",
      "Distance remaining: 0.15meters.\n",
      "builtin_interfaces.msg.Duration(sec=3, nanosec=10186107)\n",
      "Distance remaining: 0.15meters.\n",
      "builtin_interfaces.msg.Duration(sec=3, nanosec=520200501)\n",
      "Distance remaining: 0.15meters.\n",
      "builtin_interfaces.msg.Duration(sec=4, nanosec=20391035)\n",
      "Distance remaining: 0.15meters.\n",
      "builtin_interfaces.msg.Duration(sec=4, nanosec=520357758)\n",
      "Distance remaining: 0.15meters.\n",
      "builtin_interfaces.msg.Duration(sec=5, nanosec=30258424)\n",
      "Distance remaining: 0.15meters.\n",
      "builtin_interfaces.msg.Duration(sec=5, nanosec=530164468)\n",
      "Distance remaining: 0.15meters.\n",
      "builtin_interfaces.msg.Duration(sec=6, nanosec=30161482)\n",
      "Distance remaining: 0.15meters.\n",
      "builtin_interfaces.msg.Duration(sec=6, nanosec=530143722)\n",
      "Distance remaining: 0.15meters.\n",
      "builtin_interfaces.msg.Duration(sec=7, nanosec=40130847)\n",
      "Distance remaining: 0.15meters.\n",
      "builtin_interfaces.msg.Duration(sec=7, nanosec=540227521)\n",
      "Distance remaining: 0.15meters.\n",
      "builtin_interfaces.msg.Duration(sec=8, nanosec=40114974)\n",
      "Distance remaining: 0.15meters.\n",
      "builtin_interfaces.msg.Duration(sec=8, nanosec=540127228)\n",
      "Distance remaining: 0.15meters.\n",
      "builtin_interfaces.msg.Duration(sec=9, nanosec=50174906)\n",
      "Distance remaining: 0.15meters.\n",
      "builtin_interfaces.msg.Duration(sec=9, nanosec=550187335)\n",
      "Distance remaining: 0.15meters.\n",
      "builtin_interfaces.msg.Duration(sec=10, nanosec=50433094)\n"
     ]
    },
    {
     "name": "stderr",
     "output_type": "stream",
     "text": [
      "[INFO] [1690445795.326061391] [basic_navigator]: Canceling current task.\n"
     ]
    }
   ],
   "source": [
    "#A지역 오른쪽\n",
    "goal_pose2 = PoseStamped()\n",
    "goal_pose2.header.frame_id = 'map'\n",
    "goal_pose2.header.stamp = nav.get_clock().now().to_msg()\n",
    "goal_pose2.pose.position.x = 0.7\n",
    "goal_pose2.pose.position.y = 0.2\n",
    "goal_pose2.pose.orientation.w = 1.\n",
    "goal_pose2.pose.orientation.z = -1.\n",
    "\n",
    "nav.goToPose(goal_pose2)\n",
    "\n",
    "i = 0\n",
    "while not nav.isTaskComplete():\n",
    "    i = i + 1\n",
    "    feedback = nav.getFeedback()\n",
    "    if feedback and i % 5 == 0:\n",
    "        print('Distance remaining: ' + '{:.2f}'.format(\n",
    "        feedback.distance_remaining) + 'meters.')\n",
    "        print(feedback.navigation_time)\n",
    "        \n",
    "    if Duration.from_msg(feedback.navigation_time) > Duration(seconds=10.0):\n",
    "        nav.cancelTask()"
   ]
  },
  {
   "cell_type": "code",
   "execution_count": 9,
   "id": "69854420",
   "metadata": {},
   "outputs": [
    {
     "name": "stderr",
     "output_type": "stream",
     "text": [
      "[INFO] [1690445795.338436366] [basic_navigator]: Navigating to goal: 1.7 1.0...\n"
     ]
    },
    {
     "name": "stdout",
     "output_type": "stream",
     "text": [
      "Distance remaining: 1.40meters.\n",
      "builtin_interfaces.msg.Duration(sec=0, nanosec=500174724)\n",
      "Distance remaining: 1.40meters.\n",
      "builtin_interfaces.msg.Duration(sec=1, nanosec=161522)\n",
      "Distance remaining: 1.40meters.\n",
      "builtin_interfaces.msg.Duration(sec=1, nanosec=500189937)\n",
      "Distance remaining: 1.40meters.\n",
      "builtin_interfaces.msg.Duration(sec=2, nanosec=10180851)\n",
      "Distance remaining: 1.30meters.\n",
      "builtin_interfaces.msg.Duration(sec=2, nanosec=510157208)\n",
      "Distance remaining: 1.18meters.\n",
      "builtin_interfaces.msg.Duration(sec=3, nanosec=10183125)\n",
      "Distance remaining: 1.15meters.\n",
      "builtin_interfaces.msg.Duration(sec=3, nanosec=520169788)\n",
      "Distance remaining: 1.01meters.\n",
      "builtin_interfaces.msg.Duration(sec=4, nanosec=20152323)\n",
      "Distance remaining: 0.97meters.\n",
      "builtin_interfaces.msg.Duration(sec=4, nanosec=520364007)\n",
      "Distance remaining: 0.83meters.\n",
      "builtin_interfaces.msg.Duration(sec=5, nanosec=20232834)\n",
      "Distance remaining: 0.75meters.\n",
      "builtin_interfaces.msg.Duration(sec=5, nanosec=530150540)\n",
      "Distance remaining: 0.69meters.\n",
      "builtin_interfaces.msg.Duration(sec=6, nanosec=30725047)\n",
      "Distance remaining: 0.59meters.\n",
      "builtin_interfaces.msg.Duration(sec=6, nanosec=530670051)\n",
      "Distance remaining: 0.53meters.\n",
      "builtin_interfaces.msg.Duration(sec=7, nanosec=30126916)\n",
      "Distance remaining: 0.43meters.\n",
      "builtin_interfaces.msg.Duration(sec=7, nanosec=540131052)\n",
      "Distance remaining: 0.36meters.\n",
      "builtin_interfaces.msg.Duration(sec=8, nanosec=40114219)\n",
      "Distance remaining: 0.26meters.\n",
      "builtin_interfaces.msg.Duration(sec=8, nanosec=540111644)\n",
      "Distance remaining: 0.26meters.\n",
      "builtin_interfaces.msg.Duration(sec=9, nanosec=50114527)\n",
      "Distance remaining: 0.26meters.\n",
      "builtin_interfaces.msg.Duration(sec=9, nanosec=550109026)\n",
      "Distance remaining: 0.26meters.\n",
      "builtin_interfaces.msg.Duration(sec=10, nanosec=50182151)\n"
     ]
    },
    {
     "name": "stderr",
     "output_type": "stream",
     "text": [
      "[INFO] [1690445805.397802585] [basic_navigator]: Canceling current task.\n"
     ]
    }
   ],
   "source": [
    "#C지역\n",
    "goal_pose3 = PoseStamped()\n",
    "goal_pose3.header.frame_id = 'map'\n",
    "goal_pose3.header.stamp = nav.get_clock().now().to_msg()\n",
    "goal_pose3.pose.position.x = 1.7\n",
    "goal_pose3.pose.position.y = 1.\n",
    "goal_pose3.pose.orientation.w = 0.\n",
    "goal_pose3.pose.orientation.z = 0.\n",
    "\n",
    "\n",
    "nav.goToPose(goal_pose3)\n",
    "\n",
    "i = 0\n",
    "while not nav.isTaskComplete():\n",
    "    i = i + 1\n",
    "    feedback = nav.getFeedback()\n",
    "    if feedback and i % 5 == 0:\n",
    "        print('Distance remaining: ' + '{:.2f}'.format(\n",
    "        feedback.distance_remaining) + 'meters.')\n",
    "        print(feedback.navigation_time)\n",
    "        \n",
    "    if Duration.from_msg(feedback.navigation_time) > Duration(seconds=10.0):\n",
    "        nav.cancelTask()"
   ]
  },
  {
   "cell_type": "code",
   "execution_count": 10,
   "id": "6e01cdeb",
   "metadata": {},
   "outputs": [],
   "source": [
    "#1초 정지\n",
    "import time\n",
    "\n",
    "time.sleep(1)"
   ]
  },
  {
   "cell_type": "code",
   "execution_count": 11,
   "id": "5381e153",
   "metadata": {},
   "outputs": [
    {
     "name": "stderr",
     "output_type": "stream",
     "text": [
      "[INFO] [1690445808.752433554] [basic_navigator]: Navigating to goal: 1.7 -0.15...\n"
     ]
    },
    {
     "name": "stdout",
     "output_type": "stream",
     "text": [
      "Distance remaining: 0.98meters.\n",
      "builtin_interfaces.msg.Duration(sec=0, nanosec=500178728)\n",
      "Distance remaining: 0.98meters.\n",
      "builtin_interfaces.msg.Duration(sec=1, nanosec=169751)\n",
      "Distance remaining: 0.93meters.\n",
      "builtin_interfaces.msg.Duration(sec=1, nanosec=510233067)\n",
      "Distance remaining: 0.88meters.\n",
      "builtin_interfaces.msg.Duration(sec=2, nanosec=10302956)\n",
      "Distance remaining: 0.75meters.\n",
      "builtin_interfaces.msg.Duration(sec=2, nanosec=510196197)\n",
      "Distance remaining: 0.70meters.\n",
      "builtin_interfaces.msg.Duration(sec=3, nanosec=20176297)\n",
      "Distance remaining: 0.60meters.\n",
      "builtin_interfaces.msg.Duration(sec=3, nanosec=520154789)\n",
      "Distance remaining: 0.50meters.\n",
      "builtin_interfaces.msg.Duration(sec=4, nanosec=20470176)\n",
      "Distance remaining: 0.42meters.\n",
      "builtin_interfaces.msg.Duration(sec=4, nanosec=520166514)\n",
      "Distance remaining: 0.32meters.\n",
      "builtin_interfaces.msg.Duration(sec=5, nanosec=30164005)\n",
      "Distance remaining: 0.27meters.\n",
      "builtin_interfaces.msg.Duration(sec=5, nanosec=530172426)\n",
      "Distance remaining: 0.22meters.\n",
      "builtin_interfaces.msg.Duration(sec=6, nanosec=30170034)\n",
      "Distance remaining: 0.22meters.\n",
      "builtin_interfaces.msg.Duration(sec=6, nanosec=530482331)\n",
      "Distance remaining: 0.22meters.\n",
      "builtin_interfaces.msg.Duration(sec=7, nanosec=40127012)\n",
      "Distance remaining: 0.22meters.\n",
      "builtin_interfaces.msg.Duration(sec=7, nanosec=540141635)\n",
      "Distance remaining: 0.22meters.\n",
      "builtin_interfaces.msg.Duration(sec=8, nanosec=40133786)\n",
      "Distance remaining: 0.20meters.\n",
      "builtin_interfaces.msg.Duration(sec=8, nanosec=540195536)\n",
      "Distance remaining: 0.20meters.\n",
      "builtin_interfaces.msg.Duration(sec=9, nanosec=50211626)\n",
      "Distance remaining: 0.22meters.\n",
      "builtin_interfaces.msg.Duration(sec=9, nanosec=550372249)\n",
      "Distance remaining: 0.22meters.\n",
      "builtin_interfaces.msg.Duration(sec=10, nanosec=50277442)\n"
     ]
    },
    {
     "name": "stderr",
     "output_type": "stream",
     "text": [
      "[INFO] [1690445818.808240894] [basic_navigator]: Canceling current task.\n"
     ]
    }
   ],
   "source": [
    "#B지역\n",
    "goal_pose4 = PoseStamped()\n",
    "goal_pose4.header.frame_id = 'map'\n",
    "goal_pose4.header.stamp = nav.get_clock().now().to_msg()\n",
    "goal_pose4.pose.position.x = 1.7\n",
    "goal_pose4.pose.position.y = -0.15\n",
    "goal_pose4.pose.orientation.w = 0.\n",
    "goal_pose4.pose.orientation.z = 0.\n",
    "\n",
    "nav.goToPose(goal_pose4)\n",
    "\n",
    "i = 0\n",
    "while not nav.isTaskComplete():\n",
    "    i = i + 1\n",
    "    feedback = nav.getFeedback()\n",
    "    if feedback and i % 5 == 0:\n",
    "        print('Distance remaining: ' + '{:.2f}'.format(\n",
    "        feedback.distance_remaining) + 'meters.')\n",
    "        print(feedback.navigation_time)\n",
    "        \n",
    "    if Duration.from_msg(feedback.navigation_time) > Duration(seconds=10.0):\n",
    "        nav.cancelTask()"
   ]
  },
  {
   "cell_type": "code",
   "execution_count": null,
   "id": "29e150f6",
   "metadata": {},
   "outputs": [],
   "source": []
  }
 ],
 "metadata": {
  "kernelspec": {
   "display_name": "Python 3 (ipykernel)",
   "language": "python",
   "name": "python3"
  },
  "language_info": {
   "codemirror_mode": {
    "name": "ipython",
    "version": 3
   },
   "file_extension": ".py",
   "mimetype": "text/x-python",
   "name": "python",
   "nbconvert_exporter": "python",
   "pygments_lexer": "ipython3",
   "version": "3.10.6"
  }
 },
 "nbformat": 4,
 "nbformat_minor": 5
}
