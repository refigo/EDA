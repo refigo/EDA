{
 "cells": [
  {
   "cell_type": "code",
   "execution_count": 1,
   "id": "a4c5c9ee",
   "metadata": {},
   "outputs": [],
   "source": [
    "from nav2_simple_commander.robot_navigator import BasicNavigator\n",
    "import rclpy\n",
    "\n",
    "rclpy.init()\n",
    "nav = BasicNavigator()"
   ]
  },
  {
   "cell_type": "code",
   "execution_count": 2,
   "id": "3e8ff0c2",
   "metadata": {},
   "outputs": [
    {
     "name": "stderr",
     "output_type": "stream",
     "text": [
      "[INFO] [1690943545.800823861] [basic_navigator]: Nav2 is ready for use!\n"
     ]
    }
   ],
   "source": [
    "nav.waitUntilNav2Active()"
   ]
  },
  {
   "cell_type": "code",
   "execution_count": 3,
   "id": "23f624e2",
   "metadata": {},
   "outputs": [],
   "source": [
    "from geometry_msgs.msg import PoseStamped\n",
    "from rclpy.duration import Duration"
   ]
  },
  {
   "cell_type": "code",
   "execution_count": 6,
   "id": "d9bdb87b",
   "metadata": {},
   "outputs": [
    {
     "name": "stderr",
     "output_type": "stream",
     "text": [
      "[INFO] [1690943589.628001423] [basic_navigator]: Navigating to goal: 100.0 100.0...\n"
     ]
    },
    {
     "name": "stdout",
     "output_type": "stream",
     "text": [
      "Distance remaining: 0.00meters.\n",
      "builtin_interfaces.msg.Duration(sec=0, nanosec=500320045)\n",
      "Distance remaining: 0.00meters.\n",
      "builtin_interfaces.msg.Duration(sec=1, nanosec=245169)\n",
      "Distance remaining: 0.00meters.\n",
      "builtin_interfaces.msg.Duration(sec=1, nanosec=510234946)\n",
      "Distance remaining: 0.00meters.\n",
      "builtin_interfaces.msg.Duration(sec=2, nanosec=10168027)\n",
      "Distance remaining: 0.00meters.\n",
      "builtin_interfaces.msg.Duration(sec=2, nanosec=510239289)\n",
      "Distance remaining: 0.00meters.\n",
      "builtin_interfaces.msg.Duration(sec=3, nanosec=20269041)\n",
      "Distance remaining: 0.00meters.\n",
      "builtin_interfaces.msg.Duration(sec=3, nanosec=520281106)\n",
      "Distance remaining: 0.00meters.\n",
      "builtin_interfaces.msg.Duration(sec=4, nanosec=20222224)\n",
      "Distance remaining: 0.00meters.\n",
      "builtin_interfaces.msg.Duration(sec=4, nanosec=520282493)\n",
      "Distance remaining: 0.00meters.\n",
      "builtin_interfaces.msg.Duration(sec=5, nanosec=20182523)\n",
      "Distance remaining: 0.00meters.\n",
      "builtin_interfaces.msg.Duration(sec=5, nanosec=530361938)\n",
      "Distance remaining: 0.00meters.\n",
      "builtin_interfaces.msg.Duration(sec=6, nanosec=30232657)\n",
      "Distance remaining: 0.00meters.\n",
      "builtin_interfaces.msg.Duration(sec=6, nanosec=530338735)\n",
      "Distance remaining: 0.00meters.\n",
      "builtin_interfaces.msg.Duration(sec=7, nanosec=40263016)\n",
      "Distance remaining: 0.00meters.\n",
      "builtin_interfaces.msg.Duration(sec=7, nanosec=540172316)\n",
      "Distance remaining: 0.00meters.\n",
      "builtin_interfaces.msg.Duration(sec=8, nanosec=40128595)\n",
      "Distance remaining: 0.00meters.\n",
      "builtin_interfaces.msg.Duration(sec=8, nanosec=540291199)\n",
      "Distance remaining: 0.00meters.\n",
      "builtin_interfaces.msg.Duration(sec=9, nanosec=50403396)\n",
      "Distance remaining: 0.00meters.\n",
      "builtin_interfaces.msg.Duration(sec=9, nanosec=550320433)\n",
      "Distance remaining: 0.00meters.\n",
      "builtin_interfaces.msg.Duration(sec=10, nanosec=50248275)\n"
     ]
    },
    {
     "name": "stderr",
     "output_type": "stream",
     "text": [
      "[INFO] [1690943599.689556324] [basic_navigator]: Canceling current task.\n"
     ]
    }
   ],
   "source": [
    "# initial setting\n",
    "goal_pose0 = PoseStamped()\n",
    "goal_pose0.header.frame_id = 'map'\n",
    "goal_pose0.header.stamp = nav.get_clock().now().to_msg()\n",
    "goal_pose0.pose.position.x = 100.\n",
    "goal_pose0.pose.position.y = 100.\n",
    "goal_pose0.pose.orientation.w = 0.\n",
    "goal_pose0.pose.orientation.z = 0.\n",
    "\n",
    "nav.goToPose(goal_pose0)\n",
    "\n",
    "\n",
    "i = 0\n",
    "while not nav.isTaskComplete():\n",
    "    i = i + 1\n",
    "    feedback = nav.getFeedback()\n",
    "    if feedback and i % 5 == 0:\n",
    "        print('Distance remaining: ' + '{:.2f}'.format(\n",
    "        feedback.distance_remaining) + 'meters.')\n",
    "        print(feedback.navigation_time)\n",
    "        \n",
    "    if Duration.from_msg(feedback.navigation_time) > Duration(seconds=10.0):\n",
    "        nav.cancelTask()"
   ]
  },
  {
   "cell_type": "code",
   "execution_count": 22,
   "id": "e43a0be9",
   "metadata": {},
   "outputs": [
    {
     "name": "stderr",
     "output_type": "stream",
     "text": [
      "[INFO] [1690945569.529635315] [basic_navigator]: Navigating to goal: 0.7 0.2...\n"
     ]
    },
    {
     "name": "stdout",
     "output_type": "stream",
     "text": [
      "Distance remaining: 0.22meters.\n",
      "builtin_interfaces.msg.Duration(sec=0, nanosec=500176673)\n",
      "Distance remaining: 0.22meters.\n",
      "builtin_interfaces.msg.Duration(sec=1, nanosec=169751)\n",
      "Distance remaining: 0.22meters.\n",
      "builtin_interfaces.msg.Duration(sec=1, nanosec=500160627)\n",
      "Distance remaining: 0.22meters.\n",
      "builtin_interfaces.msg.Duration(sec=2, nanosec=170767)\n",
      "Distance remaining: 0.22meters.\n",
      "builtin_interfaces.msg.Duration(sec=2, nanosec=510153119)\n",
      "Distance remaining: 0.22meters.\n",
      "builtin_interfaces.msg.Duration(sec=3, nanosec=10158503)\n",
      "Distance remaining: 0.22meters.\n",
      "builtin_interfaces.msg.Duration(sec=3, nanosec=510183420)\n",
      "Distance remaining: 0.22meters.\n",
      "builtin_interfaces.msg.Duration(sec=4, nanosec=10177973)\n",
      "Distance remaining: 0.20meters.\n",
      "builtin_interfaces.msg.Duration(sec=4, nanosec=510152809)\n",
      "Distance remaining: 0.20meters.\n",
      "builtin_interfaces.msg.Duration(sec=5, nanosec=10182902)\n",
      "Distance remaining: 0.20meters.\n",
      "builtin_interfaces.msg.Duration(sec=5, nanosec=520149465)\n",
      "Distance remaining: 0.20meters.\n",
      "builtin_interfaces.msg.Duration(sec=6, nanosec=20155635)\n",
      "Distance remaining: 0.20meters.\n",
      "builtin_interfaces.msg.Duration(sec=6, nanosec=520172441)\n",
      "Distance remaining: 0.20meters.\n",
      "builtin_interfaces.msg.Duration(sec=7, nanosec=20220051)\n",
      "Distance remaining: 0.20meters.\n",
      "builtin_interfaces.msg.Duration(sec=7, nanosec=520167382)\n",
      "Distance remaining: 0.20meters.\n",
      "builtin_interfaces.msg.Duration(sec=8, nanosec=20156966)\n",
      "Distance remaining: 0.20meters.\n",
      "builtin_interfaces.msg.Duration(sec=8, nanosec=520154271)\n",
      "Distance remaining: 0.20meters.\n",
      "builtin_interfaces.msg.Duration(sec=9, nanosec=30150078)\n",
      "Distance remaining: 0.20meters.\n",
      "builtin_interfaces.msg.Duration(sec=9, nanosec=530192413)\n",
      "Distance remaining: 0.20meters.\n",
      "builtin_interfaces.msg.Duration(sec=10, nanosec=30139293)\n"
     ]
    },
    {
     "name": "stderr",
     "output_type": "stream",
     "text": [
      "[INFO] [1690945579.565994800] [basic_navigator]: Canceling current task.\n"
     ]
    }
   ],
   "source": [
    "#A지역\n",
    "goal_pose1 = PoseStamped()\n",
    "goal_pose1.header.frame_id = 'map'\n",
    "goal_pose1.header.stamp = nav.get_clock().now().to_msg()\n",
    "goal_pose1.pose.position.x = 0.7\n",
    "goal_pose1.pose.position.y = 0.2\n",
    "goal_pose1.pose.orientation.w = 0.60\n",
    "goal_pose1.pose.orientation.z = -0.53\n",
    "\n",
    "nav.goToPose(goal_pose1)\n",
    "\n",
    "i = 0\n",
    "while not nav.isTaskComplete():\n",
    "    i = i + 1\n",
    "    feedback = nav.getFeedback()\n",
    "    if feedback and i % 5 == 0:\n",
    "        print('Distance remaining: ' + '{:.2f}'.format(\n",
    "        feedback.distance_remaining) + 'meters.')\n",
    "        print(feedback.navigation_time)\n",
    "        \n",
    "    if Duration.from_msg(feedback.navigation_time) > Duration(seconds=10.0):\n",
    "        nav.cancelTask()"
   ]
  },
  {
   "cell_type": "code",
   "execution_count": 14,
   "id": "2fb83245",
   "metadata": {},
   "outputs": [
    {
     "ename": "ImportError",
     "evalue": "cannot import name 'Quaternion' from 'tf2_ros' (/opt/ros/humble/lib/python3.10/site-packages/tf2_ros/__init__.py)",
     "output_type": "error",
     "traceback": [
      "\u001b[0;31m---------------------------------------------------------------------------\u001b[0m",
      "\u001b[0;31mImportError\u001b[0m                               Traceback (most recent call last)",
      "Cell \u001b[0;32mIn[14], line 1\u001b[0m\n\u001b[0;32m----> 1\u001b[0m \u001b[38;5;28;01mfrom\u001b[39;00m \u001b[38;5;21;01mtf2_ros\u001b[39;00m \u001b[38;5;28;01mimport\u001b[39;00m Quaternion\n\u001b[1;32m      2\u001b[0m \u001b[38;5;28;01mfrom\u001b[39;00m \u001b[38;5;21;01mtf_tranformations\u001b[39;00m \u001b[38;5;28;01mimport\u001b[39;00m quaternion_from_euler\n",
      "\u001b[0;31mImportError\u001b[0m: cannot import name 'Quaternion' from 'tf2_ros' (/opt/ros/humble/lib/python3.10/site-packages/tf2_ros/__init__.py)"
     ]
    }
   ],
   "source": [
    "from tf2_ros import Quaternion\n",
    "from tf_tranformations import quaternion_from_euler"
   ]
  },
  {
   "cell_type": "code",
   "execution_count": 15,
   "id": "b1499985",
   "metadata": {},
   "outputs": [
    {
     "name": "stdout",
     "output_type": "stream",
     "text": [
      "Defaulting to user installation because normal site-packages is not writeable\n",
      "\u001b[33mWARNING: Retrying (Retry(total=4, connect=None, read=None, redirect=None, status=None)) after connection broken by 'NewConnectionError('<pip._vendor.urllib3.connection.HTTPSConnection object at 0x7fc59694f130>: Failed to establish a new connection: [Errno -3] Temporary failure in name resolution')': /simple/tf2-ros/\u001b[0m\u001b[33m\n",
      "\u001b[0m\u001b[33mWARNING: Retrying (Retry(total=3, connect=None, read=None, redirect=None, status=None)) after connection broken by 'NewConnectionError('<pip._vendor.urllib3.connection.HTTPSConnection object at 0x7fc59694e560>: Failed to establish a new connection: [Errno -3] Temporary failure in name resolution')': /simple/tf2-ros/\u001b[0m\u001b[33m\n",
      "\u001b[0m^C\n"
     ]
    }
   ],
   "source": []
  },
  {
   "cell_type": "code",
   "execution_count": null,
   "id": "19c96c18",
   "metadata": {},
   "outputs": [],
   "source": [
    "#A지역 오른쪽\n",
    "goal_pose2 = PoseStamped()\n",
    "goal_pose2.header.frame_id = 'map'\n",
    "goal_pose2.header.stamp = nav.get_clock().now().to_msg()\n",
    "goal_pose2.pose.position.x = 0.7\n",
    "goal_pose2.pose.position.y = 0.2\n",
    "goal_pose2.pose.orientation.w = 1.\n",
    "goal_pose2.pose.orientation.z = -1.\n",
    "\n",
    "nav.goToPose(goal_pose2)\n",
    "\n",
    "i = 0\n",
    "while not nav.isTaskComplete():\n",
    "    i = i + 1\n",
    "    feedback = nav.getFeedback()\n",
    "    if feedback and i % 5 == 0:\n",
    "        print('Distance remaining: ' + '{:.2f}'.format(\n",
    "        feedback.distance_remaining) + 'meters.')\n",
    "        print(feedback.navigation_time)\n",
    "        \n",
    "    if Duration.from_msg(feedback.navigation_time) > Duration(seconds=10.0):\n",
    "        nav.cancelTask()"
   ]
  },
  {
   "cell_type": "code",
   "execution_count": null,
   "id": "69854420",
   "metadata": {},
   "outputs": [],
   "source": [
    "#C지역\n",
    "goal_pose3 = PoseStamped()\n",
    "goal_pose3.header.frame_id = 'map'\n",
    "goal_pose3.header.stamp = nav.get_clock().now().to_msg()\n",
    "goal_pose3.pose.position.x = 1.7\n",
    "goal_pose3.pose.position.y = 1.\n",
    "goal_pose3.pose.orientation.w = 0.\n",
    "goal_pose3.pose.orientation.z = 0.\n",
    "\n",
    "\n",
    "nav.goToPose(goal_pose3)\n",
    "\n",
    "i = 0\n",
    "while not nav.isTaskComplete():\n",
    "    i = i + 1\n",
    "    feedback = nav.getFeedback()\n",
    "    if feedback and i % 5 == 0:\n",
    "        print('Distance remaining: ' + '{:.2f}'.format(\n",
    "        feedback.distance_remaining) + 'meters.')\n",
    "        print(feedback.navigation_time)\n",
    "        \n",
    "    if Duration.from_msg(feedback.navigation_time) > Duration(seconds=10.0):\n",
    "        nav.cancelTask()"
   ]
  },
  {
   "cell_type": "code",
   "execution_count": null,
   "id": "6e01cdeb",
   "metadata": {},
   "outputs": [],
   "source": [
    "#1초 정지\n",
    "import time\n",
    "\n",
    "time.sleep(1)"
   ]
  },
  {
   "cell_type": "code",
   "execution_count": null,
   "id": "5381e153",
   "metadata": {},
   "outputs": [],
   "source": [
    "#B지역\n",
    "goal_pose4 = PoseStamped()\n",
    "goal_pose4.header.frame_id = 'map'\n",
    "goal_pose4.header.stamp = nav.get_clock().now().to_msg()\n",
    "goal_pose4.pose.position.x = 1.7\n",
    "goal_pose4.pose.position.y = -0.15\n",
    "goal_pose4.pose.orientation.w = 0.\n",
    "goal_pose4.pose.orientation.z = 0.\n",
    "\n",
    "nav.goToPose(goal_pose4)\n",
    "\n",
    "i = 0\n",
    "while not nav.isTaskComplete():\n",
    "    i = i + 1\n",
    "    feedback = nav.getFeedback()\n",
    "    if feedback and i % 5 == 0:\n",
    "        print('Distance remaining: ' + '{:.2f}'.format(\n",
    "        feedback.distance_remaining) + 'meters.')\n",
    "        print(feedback.navigation_time)\n",
    "        \n",
    "    if Duration.from_msg(feedback.navigation_time) > Duration(seconds=10.0):\n",
    "        nav.cancelTask()"
   ]
  },
  {
   "cell_type": "code",
   "execution_count": null,
   "id": "29e150f6",
   "metadata": {},
   "outputs": [],
   "source": []
  }
 ],
 "metadata": {
  "kernelspec": {
   "display_name": "Python 3 (ipykernel)",
   "language": "python",
   "name": "python3"
  },
  "language_info": {
   "codemirror_mode": {
    "name": "ipython",
    "version": 3
   },
   "file_extension": ".py",
   "mimetype": "text/x-python",
   "name": "python",
   "nbconvert_exporter": "python",
   "pygments_lexer": "ipython3",
   "version": "3.10.12"
  }
 },
 "nbformat": 4,
 "nbformat_minor": 5
}
