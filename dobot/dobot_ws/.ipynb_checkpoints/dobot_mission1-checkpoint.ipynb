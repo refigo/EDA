{
 "cells": [
  {
   "cell_type": "code",
   "execution_count": null,
   "id": "793cee14",
   "metadata": {},
   "outputs": [],
   "source": [
    "import threading\n",
    "from dobot_api import DobotApiDashboard, DobotApi, DobotApiMove, MyType\n",
    "from time import sleep\n",
    "\n",
    "import numpy as np\n",
    "# 전역 변수 (현재 좌표)\n",
    "current_actual = None\n",
    "\n",
    "def connect_robot(ip):\n",
    "    try:\n",
    "        dashboard_p = 29999\n",
    "        move_p = 30003\n",
    "        feed_p = 30004\n",
    "        print(\"연결 설정 중...\")\n",
    "        dashboard = DobotApiDashboard(ip, dashboard_p)\n",
    "        move = DobotApiMove(ip, move_p)\n",
    "        feed = DobotApi(ip, feed_p)\n",
    "        print(\"연결 성공!!\")\n",
    "        return dashboard, move, feed\n",
    "    except Exception as e:\n",
    "        print(\"연결 실패\")\n",
    "        raise e\n",
    "\n",
    "def robot_clear(dashboard : DobotApiDashboard):\n",
    "    dashboard.ClearError()\n",
    "    \n",
    "def robot_speed(dashboard : DobotApiDashboard, speed_value):\n",
    "    dashboard.SpeedFactor(speed_value)\n",
    "\n",
    "def gripper_DO(dashboard : DobotApiDashboard, index, status):\n",
    "    dashboard.ToolDO(index, status)\n",
    "    \n",
    "def get_Pose(dashboard : DobotApiDashboard):\n",
    "    dashboard.GetPose()\n",
    "    \n",
    "def run_point(move: DobotApiMove, point_list: list):\n",
    "    move.MovL(point_list[0], point_list[1], point_list[2], point_list[3])\n",
    "    \n",
    "def get_feed(feed: DobotApi):\n",
    "    global current_actual\n",
    "    hasRead = 0\n",
    "    while True:\n",
    "        data = bytes()\n",
    "        while hasRead < 1440:\n",
    "            temp = feed.socket_dobot.recv(1440 - hasRead)\n",
    "            if len(temp) > 0:\n",
    "                hasRead += len(temp)\n",
    "                data += temp\n",
    "        hasRead = 0\n",
    "        a = np.frombuffer(data, dtype=MyType)\n",
    "        if hex((a['test_value'][0])) == '0x123456789abcdef':\n",
    "            current_actual = a[\"tool_vector_actual\"][0] # Refresh Properties\n",
    "        sleep(0.001)\n",
    "        \n",
    "def wait_arrive(point_list):\n",
    "    global current_actual\n",
    "    while True:\n",
    "        is_arrive = True\n",
    "        if current_actual is not None:\n",
    "            for index in range(4):\n",
    "                if (abs(current_actual[index] - point_list[index]) > 1):\n",
    "                    is_arrive = False\n",
    "            if is_arrive:\n",
    "                return\n",
    "        sleep(0.001)\n",
    "        \n",
    "# 입력 파라미터\n",
    "ip = \"192.168.1.6\" # Robot의 IP 주소\n",
    "gripper_port = 1   # 그리퍼 포트 번호\n",
    "speed_value = 100   # 로봇 속도 (1~100 사이의 값 입력)\n",
    "\n",
    "# 로봇 연결\n",
    "dashboard, move, feed = connect_robot(ip)\n",
    "dashboard.EnableRobot()\n",
    "print(\"이제 로봇을 사용할 수 있습니다!\")\n",
    "\n",
    "\n",
    "# 쓰레드 설정\n",
    "feed_thread = threading.Thread(target=get_feed, args=(feed,))\n",
    "feed_thread.setDaemon(True)\n",
    "feed_thread.start()\n",
    "# 전역 변수 (현재 좌표)\n",
    "current_actual = None# 로봇 상태 초기화 1 : 로봇 에러 메시지 초기화\n",
    "robot_clear(dashboard)\n",
    "# 로봇 상태 초기화 2 : 로봇 속도 조절\n",
    "robot_speed(dashboard, speed_value)\n",
    "# 로봇 현재 위치 받아오기 (x, y, z, yaw) - 로봇 베이스 좌표계\n",
    "get_Pose(dashboard)\n"
   ]
  },
  {
   "cell_type": "code",
   "execution_count": null,
   "id": "4b037cb6",
   "metadata": {},
   "outputs": [],
   "source": [
    "# 로봇이 이동하고자 하는 좌표 (x, y, z, yaw) unit : mm, degree\n",
    "point_home = [245, 5, 50, 115]\n",
    "point_zero = [255, 0, 0, 115]\n",
    "point_grip = [304, 19, -25, 16]\n",
    "point_parse = [255, -54, -5, 115]"
   ]
  },
  {
   "cell_type": "code",
   "execution_count": null,
   "id": "6f67849b",
   "metadata": {},
   "outputs": [],
   "source": [
    "# 로봇 구동 1 (point_init)\n",
    "run_point(move, point_home)\n",
    "# wait_arrive(point_home)\n",
    "sleep(5)\n",
    "# # 로봇 구동 2 (Grip)\n",
    "run_point(move, point_grip)\n",
    "# wait_arrive(point_grip)\n",
    "sleep(5)"
   ]
  },
  {
   "cell_type": "code",
   "execution_count": null,
   "id": "ccbfcc17",
   "metadata": {},
   "outputs": [],
   "source": [
    "# 로봇 끄기\n",
    "dashboard.DisableRobot()"
   ]
  },
  {
   "cell_type": "code",
   "execution_count": null,
   "id": "85b2f47c",
   "metadata": {},
   "outputs": [],
   "source": [
    "def trans_img_to_rbt(x_i, y_i):\n",
    "    x_r = 186 + 196 / 480 * y_i\n",
    "    y_r = -142 + 284 / 640 * x_i\n",
    "    return (x_r, y_r)"
   ]
  },
  {
   "cell_type": "code",
   "execution_count": null,
   "id": "4c824c37",
   "metadata": {},
   "outputs": [],
   "source": [
    "# 로봇 구동 1 (point_init)\n",
    "run_point(move, point_zero)\n",
    "# wait_arrive(point_home)\n",
    "sleep(5)"
   ]
  },
  {
   "cell_type": "code",
   "execution_count": null,
   "id": "eef06f35",
   "metadata": {},
   "outputs": [],
   "source": [
    "# 로봇 현재 위치 받아오기 (x, y, z, yaw) - 로봇 베이스 좌표계 0.0\n",
    "get_Pose(dashboard)"
   ]
  },
  {
   "cell_type": "code",
   "execution_count": null,
   "id": "e5c3087e",
   "metadata": {},
   "outputs": [],
   "source": [
    "# 로봇 현재 위치 받아오기 (x, y, z, yaw) - 로봇 베이스 좌표계 480.640\n",
    "get_Pose(dashboard)"
   ]
  },
  {
   "cell_type": "code",
   "execution_count": null,
   "id": "569bee7c",
   "metadata": {},
   "outputs": [],
   "source": [
    "# 로봇 현재 위치 받아오기 (x, y, z, yaw) - 로봇 베이스 좌표계 0.640\n",
    "get_Pose(dashboard)"
   ]
  },
  {
   "cell_type": "code",
   "execution_count": null,
   "id": "39bffdd4",
   "metadata": {},
   "outputs": [],
   "source": [
    "# 로봇 현재 위치 받아오기 (x, y, z, yaw) - 로봇 베이스 좌표계 0.640\n",
    "get_Pose(dashboard)"
   ]
  },
  {
   "cell_type": "code",
   "execution_count": null,
   "id": "e5e62a0b",
   "metadata": {},
   "outputs": [],
   "source": [
    "run_point(move, [250, 130, -57, 115])"
   ]
  },
  {
   "cell_type": "code",
   "execution_count": null,
   "id": "658ad7b7",
   "metadata": {},
   "outputs": [],
   "source": [
    "import rclpy as rp\n",
    "import cv2\n",
    "import threading\n",
    "\n",
    "from rclpy.node import Node\n",
    "from sensor_msgs.msg import Image\n",
    "from cv_bridge import CvBridge\n",
    "\n",
    "from yolo_inference.msg import Yolov8Inference\n",
    "\n",
    "cv_bridge = CvBridge()\n",
    "img = None\n",
    "\n",
    "class YOLOsubscriber(Node):\n",
    "    def __init__(self):\n",
    "        super().__init__(\"yolo_subscriber\")\n",
    "\n",
    "        self.img_sub = self.create_subscription(\n",
    "            Image,\n",
    "            'image_raw',\n",
    "            self.camera_callback,\n",
    "            10\n",
    "        )\n",
    "\n",
    "        self.yolo_sub = self.create_subscription(\n",
    "            Yolov8Inference,\n",
    "            '/yolov8_inference',\n",
    "            self.yolo_callback,\n",
    "            10\n",
    "        )\n",
    "        self.img = None\n",
    "        self.x_i = 0\n",
    "        self.y_i = 0\n",
    "\n",
    "    def camera_callback(self, msg):\n",
    "        self.img = cv_bridge.imgmsg_to_cv2(msg, \"bgr8\")\n",
    "\n",
    "    def yolo_callback(self,msg):\n",
    "        for result in msg.yolov8_inference:\n",
    "\n",
    "            class_name = result.label\n",
    "            top = result.top\n",
    "            top_left = result.top_left\n",
    "            bottom = result.bottom\n",
    "            bottom_right = result.bottom_right\n",
    "            conf = round(result.conf, 2)\n",
    "            self.get_logger().info(f\"{class_name} : {top}, {top_left}, {bottom}, {bottom_right} / {conf}\")\n",
    "            \n",
    "            y_i = (top_left + bottom_right) / 2\n",
    "            x_i = (top + bottom) / 2\n",
    "            \n",
    "            if (class_name == \"red\"):\n",
    "                self.x_i = x_i\n",
    "                self.y_i = y_i\n",
    "\n",
    "#             if self.img is not None:\n",
    "#                 cv2.rectangle(self.img, (top, top_left), (bottom, bottom_right), (255, 255, 0))\n",
    "#                 cv2.putText(self.img, f\"{class_name} : {conf:.2f}\", (top, top_left), cv2.FONT_HERSHEY_SIMPLEX, 0.7 , (255, 0, 255), 2)\n",
    "\n",
    "#         if self.img is not None:\n",
    "#             cv2.imshow('Yolo detections', self.img)\n",
    "#             cv2.waitKey(1)\n",
    "\n",
    "\n",
    "# def main(args=None):\n",
    "#     rp.init(args=args)\n",
    "#     yolo_subscriber =YOLOsubscriber()\n",
    "#     rp.spin(yolo_subscriber)\n",
    "#     rp.shutdown()\n",
    "\n",
    "\n",
    "# if __name__ == \"__main__\":\n",
    "#     main()"
   ]
  },
  {
   "cell_type": "code",
   "execution_count": null,
   "id": "e01d44b2",
   "metadata": {},
   "outputs": [],
   "source": [
    "\n",
    "rp.init()\n",
    "ys =YOLOsubscriber()\n"
   ]
  },
  {
   "cell_type": "code",
   "execution_count": null,
   "id": "08eef0f1",
   "metadata": {
    "scrolled": true
   },
   "outputs": [],
   "source": [
    "rp.spin_once(ys)\n",
    "x_r, y_r = trans_img_to_rbt(ys.x_i, ys.y_i)\n",
    "print(ys.x_i, ys.y_i)\n",
    "print(x_r, y_r)"
   ]
  },
  {
   "cell_type": "code",
   "execution_count": null,
   "id": "60f4238f",
   "metadata": {},
   "outputs": [],
   "source": [
    "# 로봇 구동 1 (point_init)\n",
    "run_point(move, [x_r, y_r, -25, 115])\n",
    "# wait_arrive(point_home)\n",
    "sleep(5)"
   ]
  },
  {
   "cell_type": "code",
   "execution_count": null,
   "id": "eeb7fc8f",
   "metadata": {},
   "outputs": [],
   "source": []
  },
  {
   "cell_type": "code",
   "execution_count": null,
   "id": "00a93029",
   "metadata": {},
   "outputs": [],
   "source": [
    "# 그리퍼 구동\n",
    "gripper_DO(dashboard, gripper_port, 1)\n",
    "sleep(5)"
   ]
  },
  {
   "cell_type": "code",
   "execution_count": null,
   "id": "b7ae0357",
   "metadata": {},
   "outputs": [],
   "source": []
  },
  {
   "cell_type": "code",
   "execution_count": null,
   "id": "2b15f4da",
   "metadata": {},
   "outputs": [],
   "source": []
  },
  {
   "cell_type": "code",
   "execution_count": null,
   "id": "36309be5",
   "metadata": {},
   "outputs": [],
   "source": [
    "# 로봇 구동 1 (point_init)\n",
    "run_point(move, point_zero)\n",
    "# wait_arrive(point_home)\n",
    "sleep(5)"
   ]
  },
  {
   "cell_type": "code",
   "execution_count": null,
   "id": "64b1b553",
   "metadata": {},
   "outputs": [],
   "source": [
    "# 그리퍼 끄기\n",
    "gripper_DO(dashboard, gripper_port, 0)\n",
    "sleep(5)"
   ]
  },
  {
   "cell_type": "code",
   "execution_count": null,
   "id": "3cd4f17e",
   "metadata": {},
   "outputs": [],
   "source": [
    "point_yellow = [237, 102, -25, 115]\n",
    "point_green = [337, 12, -25, 115]\n",
    "point_red = [247, -103, -57, 116]"
   ]
  },
  {
   "cell_type": "code",
   "execution_count": null,
   "id": "54b5770c",
   "metadata": {},
   "outputs": [],
   "source": [
    "rp.spin_once(ys)\n",
    "x_r, y_r = trans_img_to_rbt(ys.x_i, ys.y_i)\n",
    "print(ys.x_i, ys.y_i)\n",
    "print(x_r, y_r)\n",
    "\n",
    "# 로봇 구동 1 (point_init)\n",
    "run_point(move, [x_r, y_r, 0, 115])\n",
    "run_point(move, [x_r, y_r, -25, 115])\n",
    "# wait_arrive(point_home)\n",
    "# sleep(5)\n",
    "\n",
    "# 그리퍼 구동\n",
    "gripper_DO(dashboard, gripper_port, 1)\n",
    "# sleep(5)\n",
    "\n",
    "# 로봇 구동 2 (point_init)\n",
    "run_point(move, [point_red[0], point_red[1], -25, 115])\n",
    "run_point(move, point_red)\n",
    "# wait_arrive(point_home)\n",
    "# sleep(5)\n",
    "\n",
    "# 그리퍼 끄기\n",
    "gripper_DO(dashboard, gripper_port, 0)\n",
    "run_point(move, [point_red[0], point_red[1], 0, 115])\n",
    "sleep(5)\n",
    "\n"
   ]
  },
  {
   "cell_type": "code",
   "execution_count": null,
   "id": "32dcb1bd",
   "metadata": {},
   "outputs": [],
   "source": []
  },
  {
   "cell_type": "code",
   "execution_count": null,
   "id": "19104e82",
   "metadata": {},
   "outputs": [],
   "source": []
  }
 ],
 "metadata": {
  "kernelspec": {
   "display_name": "Python 3 (ipykernel)",
   "language": "python",
   "name": "python3"
  },
  "language_info": {
   "codemirror_mode": {
    "name": "ipython",
    "version": 3
   },
   "file_extension": ".py",
   "mimetype": "text/x-python",
   "name": "python",
   "nbconvert_exporter": "python",
   "pygments_lexer": "ipython3",
   "version": "3.10.12"
  }
 },
 "nbformat": 4,
 "nbformat_minor": 5
}
