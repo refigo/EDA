{
 "cells": [
  {
   "cell_type": "code",
   "execution_count": 45,
   "id": "d5d0ff24",
   "metadata": {},
   "outputs": [],
   "source": [
    "import threading\n",
    "from dobot_api import DobotApiDashboard, DobotApi, DobotApiMove, MyType\n",
    "from time import sleep\n",
    "import numpy as np\n",
    "# 전역 변수 (현재 좌표)\n",
    "current_actual = None"
   ]
  },
  {
   "cell_type": "code",
   "execution_count": 46,
   "id": "475b7b99",
   "metadata": {},
   "outputs": [],
   "source": [
    "def connect_robot(ip):\n",
    "    try:\n",
    "        dashboard_p = 29999\n",
    "        move_p = 30003\n",
    "        feed_p = 30004\n",
    "        print(\"연결 설정 중...\")\n",
    "        dashboard = DobotApiDashboard(ip, dashboard_p)\n",
    "        move = DobotApiMove(ip, move_p)\n",
    "        feed = DobotApi(ip, feed_p)\n",
    "        print(\"연결 성공!!\")\n",
    "        return dashboard, move, feed\n",
    "    except Exception as e:\n",
    "        print(\"연결 실패\")\n",
    "        raise e"
   ]
  },
  {
   "cell_type": "code",
   "execution_count": 47,
   "id": "bb22d02e",
   "metadata": {},
   "outputs": [],
   "source": [
    "def robot_clear(dashboard : DobotApiDashboard):\n",
    "    dashboard.ClearError()"
   ]
  },
  {
   "cell_type": "code",
   "execution_count": 48,
   "id": "08620a77",
   "metadata": {},
   "outputs": [],
   "source": [
    "def robot_speed(dashboard : DobotApiDashboard, speed_value):\n",
    "    dashboard.SpeedFactor(speed_value)"
   ]
  },
  {
   "cell_type": "code",
   "execution_count": 49,
   "id": "53e77a16",
   "metadata": {},
   "outputs": [],
   "source": [
    "def gripper_DO(dashboard : DobotApiDashboard, index, status):\n",
    "    dashboard.ToolDO(index, status)"
   ]
  },
  {
   "cell_type": "code",
   "execution_count": 50,
   "id": "a332443b",
   "metadata": {},
   "outputs": [],
   "source": [
    "def get_Pose(dashboard : DobotApiDashboard):\n",
    "    dashboard.GetPose()"
   ]
  },
  {
   "cell_type": "code",
   "execution_count": 51,
   "id": "028f40ea",
   "metadata": {},
   "outputs": [],
   "source": [
    "def run_point(move: DobotApiMove, point_list: list):\n",
    "    move.MovL(point_list[0], point_list[1], point_list[2], point_list[3])"
   ]
  },
  {
   "cell_type": "code",
   "execution_count": 52,
   "id": "cc3ca1fa",
   "metadata": {},
   "outputs": [],
   "source": [
    "def get_feed(feed: DobotApi):\n",
    "    global current_actual\n",
    "    hasRead = 0\n",
    "    while True:\n",
    "        data = bytes()\n",
    "        while hasRead < 1440:\n",
    "            temp = feed.socket_dobot.recv(1440 - hasRead)\n",
    "            if len(temp) > 0:\n",
    "                hasRead += len(temp)\n",
    "                data += temp\n",
    "        hasRead = 0\n",
    "        a = np.frombuffer(data, dtype=MyType)\n",
    "        if hex((a['test_value'][0])) == '0x123456789abcdef':\n",
    "            current_actual = a[\"tool_vector_actual\"][0] # Refresh Properties\n",
    "        sleep(0.001)"
   ]
  },
  {
   "cell_type": "code",
   "execution_count": 53,
   "id": "774d3b68",
   "metadata": {},
   "outputs": [],
   "source": [
    "def wait_arrive(point_list):\n",
    "    global current_actual\n",
    "    while True:\n",
    "        is_arrive = True\n",
    "        if current_actual is not None:\n",
    "            for index in range(4):\n",
    "                if (abs(current_actual[index] - point_list[index]) > 1):\n",
    "                    is_arrive = False\n",
    "            if is_arrive:\n",
    "                return\n",
    "        sleep(0.001)"
   ]
  },
  {
   "cell_type": "code",
   "execution_count": 54,
   "id": "1891d6e2",
   "metadata": {},
   "outputs": [],
   "source": [
    "# 입력 파라미터\n",
    "ip = \"192.168.1.6\" # Robot의 IP 주소\n",
    "gripper_port = 1   # 그리퍼 포트 번호\n",
    "speed_value = 10   # 로봇 속도 (1~100 사이의 값 입력)\n",
    "\n",
    "# 로봇이 이동하고자 하는 좌표 (x, y, z, yaw) unit : mm, degree\n",
    "point_home = [245, 5, 50, 115]\n",
    "point_grip = [304, 19, -70, 16]\n",
    "point_parse = [255, -54, -5, 115]"
   ]
  },
  {
   "cell_type": "code",
   "execution_count": 55,
   "id": "e2c71918",
   "metadata": {},
   "outputs": [
    {
     "name": "stdout",
     "output_type": "stream",
     "text": [
      "연결 설정 중...\n",
      "연결 성공!!\n",
      "Send to 192.168.1.6:29999: EnableRobot()\n",
      "Receive from 192.168.1.6:29999: 0,{},EnableRobot();\n",
      "이제 로봇을 사용할 수 있습니다!\n"
     ]
    }
   ],
   "source": [
    "# 로봇 연결\n",
    "dashboard, move, feed = connect_robot(ip)\n",
    "dashboard.EnableRobot()\n",
    "print(\"이제 로봇을 사용할 수 있습니다!\")"
   ]
  },
  {
   "cell_type": "code",
   "execution_count": 56,
   "id": "cae546b0",
   "metadata": {},
   "outputs": [
    {
     "name": "stderr",
     "output_type": "stream",
     "text": [
      "/tmp/ipykernel_23912/2430520624.py:3: DeprecationWarning: setDaemon() is deprecated, set the daemon attribute instead\n",
      "  feed_thread.setDaemon(True)\n"
     ]
    }
   ],
   "source": [
    "# 쓰레드 설정\n",
    "feed_thread = threading.Thread(target=get_feed, args=(feed,))\n",
    "feed_thread.setDaemon(True)\n",
    "feed_thread.start()"
   ]
  },
  {
   "cell_type": "code",
   "execution_count": 57,
   "id": "e8386edb",
   "metadata": {},
   "outputs": [
    {
     "name": "stdout",
     "output_type": "stream",
     "text": [
      "Send to 192.168.1.6:29999: ClearError()\n",
      "Receive from 192.168.1.6:29999: 0,{},ClearError();\n",
      "Send to 192.168.1.6:29999: SpeedFactor(10)\n",
      "Receive from 192.168.1.6:29999: 0,{},SpeedFactor(10);\n",
      "Send to 192.168.1.6:29999: GetPose()\n",
      "Receive from 192.168.1.6:29999: 0,{244.953934,6.566447,49.972099,115.277008,0.000000,0.000000},GetPose();\n"
     ]
    }
   ],
   "source": [
    "# 로봇 상태 초기화 1 : 로봇 에러 메시지 초기화\n",
    "robot_clear(dashboard)\n",
    "# 로봇 상태 초기화 2 : 로봇 속도 조절\n",
    "robot_speed(dashboard, speed_value)\n",
    "# 로봇 현재 위치 받아오기 (x, y, z, yaw) - 로봇 베이스 좌표계\n",
    "get_Pose(dashboard)"
   ]
  },
  {
   "cell_type": "code",
   "execution_count": 58,
   "id": "13112700",
   "metadata": {},
   "outputs": [
    {
     "name": "stdout",
     "output_type": "stream",
     "text": [
      "Send to 192.168.1.6:30003: MovL(245.000000,5.000000,50.000000,115.000000)\n",
      "Receive from 192.168.1.6:30003: 0,{},MovL(245.000000,5.000000,50.000000,115.000000);\n",
      "Send to 192.168.1.6:30003: MovL(304.000000,19.000000,-70.000000,16.000000)\n",
      "Receive from 192.168.1.6:30003: 0,{},MovL(304.000000,19.000000,-70.000000,16.000000);\n"
     ]
    }
   ],
   "source": [
    "# 로봇 구동 1 (point_init)\n",
    "run_point(move, point_home)\n",
    "# wait_arrive(point_home)\n",
    "sleep(5)\n",
    "# # 로봇 구동 2 (Grip)\n",
    "run_point(move, point_grip)\n",
    "# wait_arrive(point_grip)\n",
    "sleep(5)"
   ]
  },
  {
   "cell_type": "code",
   "execution_count": 59,
   "id": "caeca220",
   "metadata": {},
   "outputs": [
    {
     "name": "stdout",
     "output_type": "stream",
     "text": [
      "Send to 192.168.1.6:29999: ToolDO(1,1)\n",
      "Receive from 192.168.1.6:29999: 0,{},ToolDO(1,1);\n"
     ]
    }
   ],
   "source": [
    "# 그리퍼 구동\n",
    "gripper_DO(dashboard, gripper_port, 1)\n",
    "sleep(5)"
   ]
  },
  {
   "cell_type": "code",
   "execution_count": 60,
   "id": "d65fa483",
   "metadata": {},
   "outputs": [
    {
     "name": "stdout",
     "output_type": "stream",
     "text": [
      "Send to 192.168.1.6:29999: ToolDO(1,0)\n",
      "Receive from 192.168.1.6:29999: 0,{},ToolDO(1,0);\n"
     ]
    }
   ],
   "source": [
    "# 그리퍼 끄기\n",
    "gripper_DO(dashboard, gripper_port, 0)\n",
    "sleep(5)"
   ]
  },
  {
   "cell_type": "code",
   "execution_count": 43,
   "id": "a72ecc86",
   "metadata": {},
   "outputs": [
    {
     "name": "stdout",
     "output_type": "stream",
     "text": [
      "Send to 192.168.1.6:30003: MovL(245.000000,5.000000,50.000000,115.000000)\n",
      "Receive from 192.168.1.6:30003: 0,{},MovL(245.000000,5.000000,50.000000,115.000000);\n"
     ]
    }
   ],
   "source": [
    "# 로봇 구동 1 (Home)\n",
    "run_point(move, point_home)\n",
    "sleep(5)"
   ]
  },
  {
   "cell_type": "code",
   "execution_count": 44,
   "id": "278d056a",
   "metadata": {},
   "outputs": [
    {
     "name": "stdout",
     "output_type": "stream",
     "text": [
      "Send to 192.168.1.6:29999: DisableRobot()\n",
      "Receive from 192.168.1.6:29999: 0,{},DisableRobot();\n"
     ]
    },
    {
     "data": {
      "text/plain": [
       "'0,{},DisableRobot();'"
      ]
     },
     "execution_count": 44,
     "metadata": {},
     "output_type": "execute_result"
    }
   ],
   "source": [
    "# 로봇 끄기\n",
    "dashboard.DisableRobot()"
   ]
  },
  {
   "cell_type": "code",
   "execution_count": null,
   "id": "80470272",
   "metadata": {},
   "outputs": [],
   "source": []
  }
 ],
 "metadata": {
  "kernelspec": {
   "display_name": "Python 3 (ipykernel)",
   "language": "python",
   "name": "python3"
  },
  "language_info": {
   "codemirror_mode": {
    "name": "ipython",
    "version": 3
   },
   "file_extension": ".py",
   "mimetype": "text/x-python",
   "name": "python",
   "nbconvert_exporter": "python",
   "pygments_lexer": "ipython3",
   "version": "3.10.12"
  }
 },
 "nbformat": 4,
 "nbformat_minor": 5
}
