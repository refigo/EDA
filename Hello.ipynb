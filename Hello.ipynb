{
 "cells": [
  {
   "cell_type": "code",
   "execution_count": 3,
   "id": "9b8dfa45",
   "metadata": {},
   "outputs": [
    {
     "name": "stdout",
     "output_type": "stream",
     "text": [
      "Hello, Jupyter!\n"
     ]
    }
   ],
   "source": [
    "print(\"Hello, Jupyter!\")"
   ]
  },
  {
   "cell_type": "code",
   "execution_count": 1,
   "id": "ad1c2fbe",
   "metadata": {},
   "outputs": [],
   "source": [
    "import numpy as np"
   ]
  },
  {
   "cell_type": "markdown",
   "id": "80c19e86",
   "metadata": {},
   "source": [
    "# Markdown 문서\n",
    "\n",
    "* 별표를 사용하면 목록형으로 기술 가능\n",
    "* 마크 다운은 Jupyter Notebook이 문서로서의 가치를 가지도록 하는 중요한 도구임\n"
   ]
  },
  {
   "cell_type": "markdown",
   "id": "cf48e445",
   "metadata": {},
   "source": [
    "# 제목\n",
    "## 소제목\n",
    "### 더 작은 소제목\n",
    "\n",
    "* 번호 없는 목록\n",
    "* **두 개면 굵게**, *하나면 기울이기*, ***세 개면 굵은 기울임*** 이렇게"
   ]
  },
  {
   "cell_type": "markdown",
   "id": "54053057",
   "metadata": {},
   "source": [
    "## 가로 구분선\n",
    "---\n",
    "* 이렇게 (---) 를 사용해서 가로 구분선을 사용할 수 있음"
   ]
  },
  {
   "cell_type": "markdown",
   "id": "31f02c90",
   "metadata": {},
   "source": [
    "## 인용문\n",
    "* Pandas : 단일 머신에 맞는 데이터셋으로 작업할 때 Pandas는 최고의 도구이며 스팀팩을 맞은 마린, 스테로이드를 맞은 엑셀처럼 강력하다\n",
    "> 언어와 상관없이 사용할 수 있는 가장 강력하고 유연한 오픈소스 데이터 분석/처리 도구가 되는 것이 목표\n",
    "\n",
    "* 이런 Pandas는 Anaconda에 기본으로 포함되어 배포되고 있다"
   ]
  },
  {
   "cell_type": "markdown",
   "id": "d9822987",
   "metadata": {},
   "source": [
    "## 수식\n",
    "\\begin{align}\n",
    "\\dot{x} & = \\sigma(y-x) \\\\\n",
    "\\dot{y} & = \\rho x - y - xz \\\\\n",
    "\\dot{z} & = -\\beta z + xy\n",
    "\\end{align}\n",
    "\n",
    "$$\\begin{eqnarray}\n",
    "x' &=& &x \\sin\\phi &+& z \\cos\\phi \\\\\n",
    "z' &=& - &x \\cos\\phi &+& z \\sin\\phi \\\\\n",
    "\\end{eqnarray}$$\n",
    "\n",
    "* 달러 기호 하나를 이용해서 수식을 감싸면 문장내에서 $\\sqrt{3x-1}+(1+x)^2$ 이렇게 사용가능"
   ]
  },
  {
   "cell_type": "code",
   "execution_count": null,
   "id": "cf2b2692",
   "metadata": {},
   "outputs": [],
   "source": []
  }
 ],
 "metadata": {
  "kernelspec": {
   "display_name": "Python 3 (ipykernel)",
   "language": "python",
   "name": "python3"
  },
  "language_info": {
   "codemirror_mode": {
    "name": "ipython",
    "version": 3
   },
   "file_extension": ".py",
   "mimetype": "text/x-python",
   "name": "python",
   "nbconvert_exporter": "python",
   "pygments_lexer": "ipython3",
   "version": "3.10.6"
  }
 },
 "nbformat": 4,
 "nbformat_minor": 5
}
