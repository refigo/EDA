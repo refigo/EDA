{
 "cells": [
  {
   "cell_type": "code",
   "execution_count": 1,
   "id": "a5653823",
   "metadata": {},
   "outputs": [],
   "source": [
    "import rclpy as rp\n",
    "from turtlesim.srv import TeleportAbsolute\n",
    "from std_srvs.srv import Empty\n",
    "import numpy as np\n",
    "\n",
    "rp.init()\n",
    "drawing_star_node = rp.create_node('drawing_star')"
   ]
  },
  {
   "cell_type": "code",
   "execution_count": 2,
   "id": "8f6165ff",
   "metadata": {},
   "outputs": [],
   "source": [
    "srv_name = '/turtle1/teleport_absolute'\n",
    "srv_clnt = drawing_star_node.create_client(TeleportAbsolute, srv_name)"
   ]
  },
  {
   "cell_type": "code",
   "execution_count": 3,
   "id": "f5217d9a",
   "metadata": {},
   "outputs": [],
   "source": [
    "srv_req = TeleportAbsolute.Request()"
   ]
  },
  {
   "cell_type": "code",
   "execution_count": 4,
   "id": "96317f3c",
   "metadata": {},
   "outputs": [],
   "source": [
    "srv_req.x = 6.\n",
    "srv_req.y = 6.\n",
    "srv_clnt.call_async(srv_req)\n",
    "\n",
    "rp.spin_once(drawing_star_node)"
   ]
  },
  {
   "cell_type": "code",
   "execution_count": 5,
   "id": "78bac956",
   "metadata": {},
   "outputs": [],
   "source": [
    "clr_clnt = drawing_star_node.create_client(Empty, '/clear')\n",
    "clr_clnt.call_async(Empty.Request())\n",
    "\n",
    "rp.spin_once(drawing_star_node)"
   ]
  },
  {
   "cell_type": "code",
   "execution_count": 6,
   "id": "dfd51537",
   "metadata": {},
   "outputs": [],
   "source": [
    "srv_req.x += 3\n",
    "srv_req.y += 0\n",
    "srv_clnt.call_async(srv_req)\n",
    "\n",
    "srv_req.x -= 3 * np.cos(36 * np.pi/180)\n",
    "srv_req.y -= 3 * np.sin(36 * np.pi/180)\n",
    "srv_clnt.call_async(srv_req)\n",
    "\n",
    "srv_req.x += 3 * np.cos(72 * np.pi/180)\n",
    "srv_req.y -= 3 * np.sin(72 * np.pi/180)\n",
    "srv_clnt.call_async(srv_req)\n",
    "\n",
    "srv_req.x -= 3 * np.cos(36 * np.pi/180)\n",
    "srv_req.y += 3 * np.sin(36 * np.pi/180)\n",
    "srv_clnt.call_async(srv_req)\n",
    "\n",
    "srv_req.x -= 3 * np.cos(36 * np.pi/180)\n",
    "srv_req.y -= 3 * np.sin(36 * np.pi/180)\n",
    "srv_clnt.call_async(srv_req)\n",
    "\n",
    "srv_req.x += 3 * np.cos(72 * np.pi/180)\n",
    "srv_req.y += 3 * np.sin(72 * np.pi/180)\n",
    "srv_clnt.call_async(srv_req)\n",
    "\n",
    "\n",
    "srv_req.x -= 3 * np.cos(36 * np.pi/180)\n",
    "srv_req.y += 3 * np.sin(36 * np.pi/180)\n",
    "srv_clnt.call_async(srv_req)\n",
    "\n",
    "\n",
    "srv_req.x += 3\n",
    "srv_req.y += 0\n",
    "srv_clnt.call_async(srv_req)\n",
    "\n",
    "srv_req.x = 6 - 3 * np.cos(72 * np.pi/180)\n",
    "srv_req.y = 6 + 3 * np.sin(72 * np.pi/180)\n",
    "srv_clnt.call_async(srv_req)\n",
    "\n",
    "srv_req.x = 6.\n",
    "srv_req.y = 6.\n",
    "srv_clnt.call_async(srv_req)\n",
    "\n",
    "\n",
    "rp.spin_once(drawing_star_node)"
   ]
  },
  {
   "cell_type": "code",
   "execution_count": null,
   "id": "ea2d6afd",
   "metadata": {},
   "outputs": [],
   "source": []
  }
 ],
 "metadata": {
  "kernelspec": {
   "display_name": "Python 3 (ipykernel)",
   "language": "python",
   "name": "python3"
  },
  "language_info": {
   "codemirror_mode": {
    "name": "ipython",
    "version": 3
   },
   "file_extension": ".py",
   "mimetype": "text/x-python",
   "name": "python",
   "nbconvert_exporter": "python",
   "pygments_lexer": "ipython3",
   "version": "3.10.6"
  }
 },
 "nbformat": 4,
 "nbformat_minor": 5
}
