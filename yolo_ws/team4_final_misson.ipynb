{
 "cells": [
  {
   "cell_type": "code",
   "execution_count": 1,
   "id": "d262e034",
   "metadata": {},
   "outputs": [],
   "source": [
    "from nav2_simple_commander.robot_navigator import BasicNavigator\n",
    "\n",
    "import rclpy as rp\n",
    "from rclpy.node import Node\n",
    "from rclpy.executors import MultiThreadedExecutor\n",
    "from rclpy.duration import Duration\n",
    "\n",
    "import tf2_ros\n",
    "# from geometry_msgs.msg import PoseStamped\n",
    "from geometry_msgs.msg import TransformStamped\n",
    "from visualization_msgs.msg import MarkerArray\n",
    "\n",
    "import time\n",
    "\n",
    "import cv2\n",
    "# import rclpy as rp\n",
    "import numpy as np\n",
    "import logging\n",
    "\n",
    "# from rclpy.node import Node\n",
    "from sensor_msgs.msg import Image\n",
    "from geometry_msgs.msg import PoseStamped, PoseArray\n",
    "from rcl_interfaces.msg import ParameterDescriptor, ParameterType\n",
    "from visualization_msgs.msg import Marker, MarkerArray\n",
    "from cv_bridge import CvBridge\n",
    "from ament_index_python.packages import get_package_share_directory\n",
    "from tf_transformations import quaternion_from_matrix"
   ]
  },
  {
   "cell_type": "code",
   "execution_count": 2,
   "id": "46004557",
   "metadata": {},
   "outputs": [],
   "source": [
    "import rclpy as rp\n",
    "import numpy as np\n",
    "import os\n",
    "\n",
    "from ultralytics import YOLO\n",
    "from rclpy.node import Node\n",
    "from sensor_msgs.msg import Image\n",
    "from cv_bridge import CvBridge\n",
    "\n",
    "from yolo_inference.msg import InferenceResult\n",
    "from yolo_inference.msg import Yolov8Inference\n",
    "\n",
    "from ament_index_python.packages import get_package_share_directory\n",
    "\n",
    "class ObjectDetection(Node):\n",
    "\tdef __init__(self):\n",
    "\n",
    "\t\tsuper().__init__('object_dectection_node')\n",
    "\t\tself.cv_bridge = CvBridge()\n",
    "\t\tself.model_name_param = self.declare_parameter('model_name', 'yolov8n.pt')\n",
    "\t\tself.pkg_share_path = get_package_share_directory('yolo_pkg')\n",
    "\t\tself.model_dir = os.path.join(self.pkg_share_path, 'models')\n",
    "\t\tself.model_name = self.model_name_param.value\n",
    "\t\tself.model_path = os.path.join(self.model_dir, self.model_name)\n",
    "\t\tself.model = YOLO(self.model_path)\n",
    "\t\tself.get_logger().info(f\"model : {self.model_path}\")\n",
    "\n",
    "\t\tself.yolov8_inference = Yolov8Inference()\n",
    "\n",
    "\t\tself.camera_sub = self.create_subscription(\n",
    "\t\t\tImage,\n",
    "\t\t\t'image_raw',\n",
    "\t\t\tself.camera_callback,\n",
    "\t\t\t10\n",
    "\t\t)\n",
    "\t\tself.camera_sub\n",
    "\n",
    "\t\tself.yolov8_pub = self.create_publisher(Yolov8Inference, \"/yolov8_inference\", 1)\n",
    "\t\tself.img_pub = self.create_publisher(Image, \"/inference_result\", 1)\n",
    "        \n",
    "\t\tself.img_size = 0\n",
    "\t\tself.is_detected = False\n",
    "\n",
    "\n",
    "\n",
    "\tdef camera_callback(self, msg):\n",
    "\t\tself.is_detected = False\n",
    "\n",
    "\t\timg = self.cv_bridge.imgmsg_to_cv2(msg, \"bgr8\")\n",
    "\t\tresults = self.model(img)\n",
    "        \n",
    "\t\tif self.img_size == 0:\n",
    "\t\t\tself.img_size = msg.height * msg.width\n",
    "\n",
    "\t\tself.yolov8_inference.header.frame_id = \"inference\"\n",
    "\t\tself.yolov8_inference.header.stamp = self.get_clock().now().to_msg()\n",
    "\n",
    "\t\tfor result in results:\n",
    "\t\t\tboxes = result.boxes.data.cpu()\n",
    "\t\t\t# box = np.array(boxes)\n",
    "\t\t\tfor box in boxes:\n",
    "\t\t\t\tself.inference_result = InferenceResult()\n",
    "\t\t\t\tlabel = int(box[5])\n",
    "\t\t\t\tself.inference_result.label = self.model.names[label]\n",
    "\t\t\t\tself.inference_result.top = int(box[0])\n",
    "\t\t\t\tself.inference_result.top_left = int(box[1])\n",
    "\t\t\t\tself.inference_result.bottom = int(box[2])\n",
    "\t\t\t\tself.inference_result.bottom_right = int(box[3])\n",
    "\t\t\t\tself.inference_result.conf = float(box[4])\n",
    "\t\t\t\tself.yolov8_inference.yolov8_inference.append(self.inference_result)\n",
    "\t\t\t\t\n",
    "\t\t\t\teach_box_size = (self.inference_result.bottom - self.inference_result.top) * (self.inference_result.bottom_right - self.inference_result.top_left)\n",
    "\t\t\t\tprint(f\"each_box_size: {each_box_size}\")\n",
    "\t\t\t\tprint(f\"img_size: {self.img_size}\")\n",
    "\t\t\t\tprint(\"self.inference_result.label type:\", type(self.inference_result.label))\n",
    "\t\t\t\tprint(self.inference_result.label)\n",
    "\t\t\t\tif each_box_size / self.img_size >= 0.6 and self.inference_result.label == \"person\":\n",
    "\t\t\t\t\tself.is_detected = True\n",
    "\n",
    "\t\tannotated_frame = results[0].plot()\n",
    "\t\timg_msg = self.cv_bridge.cv2_to_imgmsg(annotated_frame)\n",
    "\n",
    "# \t\tprint(\"img_msg in ObjectionDetection: \")\n",
    "# \t\tprint(img_msg)\n",
    "# \t\tprint(\"self.yolov8_inference in ObjectionDetection: \")\n",
    "# \t\tprint(self.yolov8_inference)\n",
    "        \n",
    "\t\tself.img_pub.publish(img_msg)\n",
    "\t\tself.yolov8_pub.publish(self.yolov8_inference)\n",
    "\t\tself.yolov8_inference.yolov8_inference.clear()\n"
   ]
  },
  {
   "cell_type": "code",
   "execution_count": 3,
   "id": "d6353338",
   "metadata": {},
   "outputs": [
    {
     "name": "stderr",
     "output_type": "stream",
     "text": [
      "[INFO] [1691397175.647579555] [basic_navigator]: Setting initial pose\n",
      "[INFO] [1691397175.649319783] [basic_navigator]: Publishing Initial Pose\n",
      "[INFO] [1691397175.650269414] [basic_navigator]: Waiting for amcl_pose to be received\n",
      "[INFO] [1691397175.651417036] [basic_navigator]: Setting initial pose\n",
      "[INFO] [1691397175.652242388] [basic_navigator]: Publishing Initial Pose\n",
      "[INFO] [1691397175.653013539] [basic_navigator]: Waiting for amcl_pose to be received\n",
      "[INFO] [1691397175.653744701] [basic_navigator]: Setting initial pose\n",
      "[INFO] [1691397175.654457993] [basic_navigator]: Publishing Initial Pose\n",
      "[INFO] [1691397175.655168710] [basic_navigator]: Waiting for amcl_pose to be received\n",
      "[INFO] [1691397177.658475386] [basic_navigator]: Nav2 is ready for use!\n"
     ]
    }
   ],
   "source": [
    "rp.init()\n",
    "\n",
    "nav = BasicNavigator()\n",
    "nav.waitUntilNav2Active()"
   ]
  },
  {
   "cell_type": "code",
   "execution_count": 4,
   "id": "bd19c289",
   "metadata": {},
   "outputs": [
    {
     "name": "stderr",
     "output_type": "stream",
     "text": [
      "[INFO] [1691397181.216918533] [object_dectection_node]: model : /home/ksh/yolo_ws/install/yolo_pkg/share/yolo_pkg/models/yolov8n.pt\n"
     ]
    }
   ],
   "source": [
    "od = ObjectDetection()"
   ]
  },
  {
   "cell_type": "code",
   "execution_count": 5,
   "id": "5a4308e1",
   "metadata": {},
   "outputs": [],
   "source": [
    "def move_with_long_delay(arg_x, arg_y, arg_w, arg_z):\n",
    "    \n",
    "    print(f\"Move to pose: x {arg_x}, y {arg_y}, orientation: w {arg_w}, z {arg_z}\")\n",
    "    \n",
    "    goal_pose1 = PoseStamped()\n",
    "    goal_pose1.header.frame_id = 'map'\n",
    "    goal_pose1.header.stamp = nav.get_clock().now().to_msg()\n",
    "    goal_pose1.pose.position.x = arg_x\n",
    "    goal_pose1.pose.position.y = arg_y\n",
    "    goal_pose1.pose.orientation.w = arg_w\n",
    "    goal_pose1.pose.orientation.z = arg_z\n",
    "\n",
    "    nav.goToPose(goal_pose1)\n",
    "\n",
    "    i = 0\n",
    "    while not nav.isTaskComplete():\n",
    "        i = i + 1\n",
    "\n",
    "        rp.spin_once(od)\n",
    "        if (od.is_detected == True):\n",
    "            print(\"Is detected!!!!!!\")\n",
    "            time.sleep(2)\n",
    "            nav.spin(1.57)\n",
    "            time.sleep(4)\n",
    "            nav.backup(0.5, 0.5)\n",
    "            nav.goToPose(goal_pose1)\n",
    "        \n",
    "        feedback = nav.getFeedback()\n",
    "        if feedback and i % 5 == 0:\n",
    "            print('Distance remaining: ' + '{:.2f}'.format(\n",
    "            feedback.distance_remaining) + 'meters.')\n",
    "#             print(feedback.navigation_time)\n",
    "\n",
    "            if feedback.distance_remaining < 0.3 and Duration.from_msg(feedback.navigation_time) > Duration(seconds=5.0):\n",
    "                nav.cancelTask()\n",
    "            \n",
    "\n",
    "def move_with_short_delay(arg_x, arg_y, arg_w, arg_z):\n",
    "    \n",
    "    print(f\"Move to pose: x {arg_x}, y {arg_y}, orientation: w {arg_w}, z {arg_z}\")\n",
    "    \n",
    "    goal_pose1 = PoseStamped()\n",
    "    goal_pose1.header.frame_id = 'map'\n",
    "    goal_pose1.header.stamp = nav.get_clock().now().to_msg()\n",
    "    goal_pose1.pose.position.x = arg_x\n",
    "    goal_pose1.pose.position.y = arg_y\n",
    "    goal_pose1.pose.orientation.w = arg_w\n",
    "    goal_pose1.pose.orientation.z = arg_z\n",
    "\n",
    "    nav.goToPose(goal_pose1)\n",
    "\n",
    "    i = 0\n",
    "    while not nav.isTaskComplete():\n",
    "        i = i + 1\n",
    "\n",
    "        feedback = nav.getFeedback()\n",
    "        if feedback and i % 5 == 0:\n",
    "            print('Distance remaining: ' + '{:.2f}'.format(\n",
    "            feedback.distance_remaining) + 'meters.')\n",
    "#             print(feedback.navigation_time)\n",
    "\n",
    "            if feedback.distance_remaining < 0.3 and Duration.from_msg(feedback.navigation_time) > Duration(seconds=5.0):\n",
    "                nav.cancelTask()"
   ]
  },
  {
   "cell_type": "code",
   "execution_count": null,
   "id": "c506467d",
   "metadata": {
    "scrolled": true
   },
   "outputs": [],
   "source": [
    "\n",
    "print(\"Move to B\")\n",
    "move_with_long_delay(1.0, 0.15, 0., 0.) # to B\n",
    "# turn back\n",
    "print(\"Turning right(90)\")\n",
    "time.sleep(2)\n",
    "nav.spin(-1.57)\n",
    "time.sleep(4)\n",
    "# move_with_short_delay(1.15, 0.15, 1., -1.) # turn 90\n",
    "\n",
    "# go to C\n",
    "print(\"Move to C\")\n",
    "move_with_long_delay(1.7, -0.15, 0., 0.) # to C\n",
    "print(\"Turning spin(360)\")\n",
    "# robot spin\n",
    "time.sleep(2)\n",
    "nav.spin(6.28)\n",
    "time.sleep(8)\n",
    "# move_with_short_delay(1.5, 1., 1., 1.)\n",
    "# move_with_short_delay(1.5, 1., 0., 0.)\n",
    "# move_with_short_delay(1.5, 1., 1., -1.)\n",
    "# move_with_short_delay(1.5, 1., 0., 1.)\n",
    "# move_with_short_delay(1.5, 1., 1., 1.)\n",
    "\n",
    "print(\"Move to D\")\n",
    "# go to D\n",
    "move_with_long_delay(1.5, 1., 1., 1.) # to D\n",
    "\n",
    "# print end\n",
    "print(\"End!!!!!!!\")\n"
   ]
  },
  {
   "cell_type": "code",
   "execution_count": null,
   "id": "9906abb8",
   "metadata": {},
   "outputs": [],
   "source": [
    "nav.spin(6.28)\n",
    "time.sleep(4)\n",
    "move_with_long_delay(1.5, 1., 1., 1.) # to C"
   ]
  },
  {
   "cell_type": "code",
   "execution_count": null,
   "id": "15df3689",
   "metadata": {},
   "outputs": [],
   "source": [
    "nav.spin(1.57)\n",
    "time.sleep(2)\n",
    "move_with_long_delay(0., 0., 0., 0.)"
   ]
  },
  {
   "cell_type": "code",
   "execution_count": null,
   "id": "98fcc42b",
   "metadata": {},
   "outputs": [],
   "source": [
    "move_with_long_delay(0., 0., 0., 0.)"
   ]
  },
  {
   "cell_type": "code",
   "execution_count": null,
   "id": "5db1f4ae",
   "metadata": {},
   "outputs": [],
   "source": [
    "nav.backup(0.15, 0.25)"
   ]
  },
  {
   "cell_type": "code",
   "execution_count": null,
   "id": "bda7a2e5",
   "metadata": {},
   "outputs": [],
   "source": [
    "import threading\n",
    "\n",
    "# Define your goToPose() function here\n",
    "\n",
    "def spin_nav2():\n",
    "    # Replace this with the actual code to start and run nav2.spin()\n",
    "    # For example, you might have a function like nav2_run() that starts and runs the navigation stack.\n",
    "#     nav2_run()\n",
    "    nav.spin(6.28)\n",
    "\n",
    "# Create a thread for the nav2.spin()\n",
    "nav2_thread = threading.Thread(target=spin_nav2)\n",
    "\n",
    "# Start the thread\n",
    "nav2_thread.start()\n",
    "\n",
    "\n",
    "# nav.spin(6.28)\n",
    "move_with_long_delay(1.5, 1., 1., 1.) # to C\n",
    "\n",
    "# Now, you can call your goToPose() function here\n",
    "# goToPose()\n",
    "\n",
    "# Wait for the nav2_thread to finish (optional)\n",
    "nav2_thread.join()\n",
    "\n",
    "# Rest of your code...\n"
   ]
  },
  {
   "cell_type": "code",
   "execution_count": 19,
   "id": "e2c3ebcd",
   "metadata": {},
   "outputs": [
    {
     "name": "stderr",
     "output_type": "stream",
     "text": [
      "[INFO] [1691397546.563633804] [basic_navigator]: Backing up 0.25 m at 0.5 m/s....\n",
      "[INFO] [1691397546.568538801] [basic_navigator]: Spinning to angle -0.77....\n",
      "[INFO] [1691397550.576777317] [basic_navigator]: Backing up 0.25 m at 0.5 m/s....\n"
     ]
    },
    {
     "data": {
      "text/plain": [
       "True"
      ]
     },
     "execution_count": 19,
     "metadata": {},
     "output_type": "execute_result"
    }
   ],
   "source": [
    "time.sleep(2)\n",
    "nav.backup(0.25, 0.5)\n",
    "nav.spin(-0.77)\n",
    "time.sleep(4)\n",
    "nav.backup(0.25, 0.5)"
   ]
  },
  {
   "cell_type": "code",
   "execution_count": null,
   "id": "ac09ed9d",
   "metadata": {},
   "outputs": [],
   "source": []
  },
  {
   "cell_type": "code",
   "execution_count": null,
   "id": "c7380c14",
   "metadata": {},
   "outputs": [],
   "source": []
  }
 ],
 "metadata": {
  "kernelspec": {
   "display_name": "Python 3 (ipykernel)",
   "language": "python",
   "name": "python3"
  },
  "language_info": {
   "codemirror_mode": {
    "name": "ipython",
    "version": 3
   },
   "file_extension": ".py",
   "mimetype": "text/x-python",
   "name": "python",
   "nbconvert_exporter": "python",
   "pygments_lexer": "ipython3",
   "version": "3.10.12"
  }
 },
 "nbformat": 4,
 "nbformat_minor": 5
}
